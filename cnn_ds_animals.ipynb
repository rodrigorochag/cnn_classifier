{
  "nbformat": 4,
  "nbformat_minor": 0,
  "metadata": {
    "colab": {
      "provenance": [],
      "authorship_tag": "ABX9TyNXR87DS8oqHqfd2E+gOJDC"
    },
    "kernelspec": {
      "name": "python3",
      "display_name": "Python 3"
    },
    "language_info": {
      "name": "python"
    }
  },
  "cells": [
    {
      "cell_type": "code",
      "execution_count": 2,
      "metadata": {
        "id": "y_YcYzr72WMT"
      },
      "outputs": [],
      "source": [
        "import pandas as pd\n",
        "import numpy as np\n",
        "import seaborn as sns\n",
        "import os\n",
        "import cv2\n",
        "import matplotlib.pyplot as plt\n",
        "import plotly.express as px\n",
        "import plotly.graph_objects as go\n",
        "import tensorflow as tf\n",
        "from tensorflow.keras import layers, models\n",
        "from plotly.subplots import make_subplots\n",
        "from tensorflow.keras.layers import GlobalAveragePooling2D, Dense\n",
        "from tensorflow.keras.models import Model\n",
        "from PIL import Image\n",
        "import plotly.offline as pyo\n",
        "from IPython.display import display\n",
        "# import torch\n",
        "# import torchvision\n",
        "# import torchvision.transforms as transforms\n",
        "# import torch.nn as nn\n",
        "# import torch.optim as optim\n",
        "from sklearn.metrics import precision_score, recall_score, f1_score, confusion_matrix, classification_report\n",
        "from keras.models import Sequential\n",
        "from keras.preprocessing.image import ImageDataGenerator\n",
        "\n",
        "from tensorflow.keras import datasets, layers, models\n"
      ]
    },
    {
      "cell_type": "code",
      "source": [
        "kaggle_info = {\n",
        "    \"username\": \"user_kaggle\",\n",
        "    \"key\": \"api_key\"\n",
        "}"
      ],
      "metadata": {
        "id": "MmKgT_PM6Bsw"
      },
      "execution_count": 19,
      "outputs": []
    },
    {
      "cell_type": "code",
      "source": [
        "# Install the Kaggle library\n",
        "!pip install -q kaggle\n",
        "\n",
        "# Set Kaggle credentials\n",
        "import json\n",
        "import os\n",
        "\n",
        "# Replace the following with your Kaggle username and API key\n",
        "\n",
        "\n",
        "# Save Kaggle credentials to a JSON file\n",
        "os.makedirs(\"/root/.kaggle\", exist_ok=True)\n",
        "with open(\"/root/.kaggle/kaggle.json\", \"w\") as file:\n",
        "    json.dump(kaggle_info, file)\n",
        "\n",
        "# Change the permissions of the file\n",
        "!chmod 600 /root/.kaggle/kaggle.json\n",
        "\n",
        "# Download the dataset\n",
        "!kaggle datasets download -d likhon148/animal-data\n",
        "# Unzip the dataset\n",
        "#!mkdir /content/gpiosenka/sports-classification\n",
        "!unzip -q animal-data.zip -d animal-data\n",
        "\n",
        "# List the contents of the directory\n",
        "!ls /content/animal-data\n"
      ],
      "metadata": {
        "colab": {
          "base_uri": "https://localhost:8080/"
        },
        "id": "UWqRqnsT2YFI",
        "outputId": "d0ea5497-0140-4561-9c62-fbafe2e1d78b"
      },
      "execution_count": 4,
      "outputs": [
        {
          "output_type": "stream",
          "name": "stdout",
          "text": [
            "Downloading animal-data.zip to /content\n",
            " 94% 34.0M/36.3M [00:00<00:00, 150MB/s] \n",
            "100% 36.3M/36.3M [00:00<00:00, 137MB/s]\n",
            "animal_data\n"
          ]
        }
      ]
    },
    {
      "cell_type": "code",
      "source": [
        "import os\n",
        "#numpydata = np.array(img)\n",
        "\n",
        "# Dictionary to store files with labels\n",
        "train_images = {}\n",
        "path = \"/content/animal-data/animal_data/Bear\"\n",
        "\n",
        "# Iterate over files in the directory\n",
        "for file_name in os.listdir(path):\n",
        "    # Check if current item is a file\n",
        "    if os.path.isfile(os.path.join(path, file_name)):\n",
        "        # Add filename and label to the dictionary\n",
        "        train_images[file_name] = '0'\n",
        "\n",
        "print(train_images)\n"
      ],
      "metadata": {
        "colab": {
          "base_uri": "https://localhost:8080/"
        },
        "id": "DSXTaROM3Ovq",
        "outputId": "d025ef29-6332-4e15-bf5d-d13f661c9b1c"
      },
      "execution_count": 12,
      "outputs": [
        {
          "output_type": "stream",
          "name": "stdout",
          "text": [
            "{'Bear_28.jpg': '0', 'bear_1_3.jpg': '0', 'Bear_30_3.jpg': '0', 'Bear_16.jpeg': '0', 'Bear_24_2.jpg': '0', 'Bear_2_1.jpg': '0', 'Bear_13_4.jpg': '0', 'Bear_20_3.jpg': '0', 'bear_4_3.jpg': '0', 'Bear_17_1.jpg': '0', 'Bear_3.jpg': '0', 'Bear_28_1.jpg': '0', 'Bear_5.jpeg': '0', 'Bear_26_3.jpg': '0', 'Bear_25_1.jpg': '0', 'Bear_6_1.jpg': '0', 'Bear_7_3.jpg': '0', 'Bear_10_1.jpg': '0', 'bear_8_2.jpg': '0', 'Bear_9_1.jpg': '0', 'Bear_12.jpeg': '0', 'Bear_27_1.jpg': '0', 'Bear_10_3.jpg': '0', 'Bear_17_3.jpg': '0', 'bear_8_3.jpg': '0', 'Bear_3_1.jpg': '0', 'Bear_7.jpeg': '0', 'Bear_18.jpeg': '0', 'Bear_9_4.jpg': '0', 'Bear_20_4.jpg': '0', 'Bear_16_1.jpg': '0', 'Bear_24_3.jpg': '0', 'Bear_9_2.jpg': '0', 'Bear_22_2.jpg': '0', 'Bear_6_2.jpg': '0', 'Bear_16_2.jpg': '0', 'Bear_2.jpeg': '0', 'Bear_23_2.jpg': '0', 'Bear_29_1.jpg': '0', 'Bear_14_1.jpg': '0', 'Bear_27_2.jpg': '0', 'Bear_24_1.jpg': '0', 'Bear_11.jpeg': '0', 'Bear_15_3.jpg': '0', 'Bear_12_1.jpg': '0', 'bear_4_4.jpg': '0', 'Bear_5_1.jpg': '0', 'Bear_30_1.jpg': '0', 'Bear_19_3.jpg': '0', 'Bear_10_2.jpg': '0', 'Bear_11_3.jpg': '0', 'Bear_21_1.jpg': '0', 'Bear_26.jpeg': '0', 'Bear_9_3.jpg': '0', 'bear_4_1.jpg': '0', 'Bear_2_3.jpg': '0', 'Bear_30.jpeg': '0', 'Bear_16_3.jpg': '0', 'Bear_30_2.jpg': '0', 'bear_1_4.jpg': '0', 'Bear_23.jpeg': '0', 'Bear_14_2.jpg': '0', 'Bear_13_2.jpg': '0', 'Bear_28_3.jpg': '0', 'Bear_13.jpeg': '0', 'Bear_18_3.jpg': '0', 'Bear_5_3.jpg': '0', 'Bear_29.jpeg': '0', 'Bear_29_3.jpg': '0', 'Bear_26_2.jpg': '0', 'Bear_25_2.jpg': '0', 'Bear_9.jpeg': '0', 'Bear_29_2.jpg': '0', 'bear_1_1.jpg': '0', 'Bear_7_1.jpg': '0', 'Bear_20_1.jpg': '0', 'Bear_22_3.jpg': '0', 'Bear_15_2.jpg': '0', 'Bear_13_3.jpg': '0', 'Bear_2_2.jpg': '0', 'Bear_27_3.jpg': '0', 'Bear_18_1.jpg': '0', 'Bear_14_3.jpg': '0', 'Bear_18_4.jpg': '0', 'Bear_20.jpeg': '0', 'Bear_21_3.jpg': '0', 'Bear_3_3.jpg': '0', 'Bear_6.jpg': '0', 'Bear_27.jpeg': '0', 'bear_8.jpg': '0', 'Bear_7_2.jpg': '0', 'Bear_11_2.jpg': '0', 'Bear_21.jpeg': '0', 'bear_8_1.jpg': '0', 'Bear_19.jpeg': '0', 'bear_4_2.jpg': '0', 'Bear_23_1.jpg': '0', 'Bear_28_2.jpg': '0', 'Bear_5_2.jpg': '0', 'Bear_14.jpeg': '0', 'Bear_13_1.jpg': '0', 'Bear_24.jpeg': '0', 'Bear_10.jpg': '0', 'Bear_17_2.jpg': '0', 'Bear_22.jpeg': '0', 'Bear_11_1.jpg': '0', 'Bear_26_1.jpg': '0', 'Bear_23_3.jpg': '0', 'Bear_12_2.jpg': '0', 'Bear_3_2.jpg': '0', 'bear_1_2.jpg': '0', 'bear_8_4.jpg': '0', 'bear_1.jpg': '0', 'bear_4.jpg': '0', 'Bear_25.jpeg': '0', 'Bear_17.jpeg': '0', 'Bear_15_1.jpg': '0', 'Bear_20_2.jpg': '0', 'Bear_12_3.jpg': '0', 'Bear_21_2.jpg': '0', 'Bear_19_2.jpg': '0', 'Bear_15.jpeg': '0', 'Bear_22_1.jpg': '0', 'Bear_18_2.jpg': '0', 'Bear_19_1.jpg': '0'}\n"
          ]
        }
      ]
    },
    {
      "cell_type": "code",
      "source": [
        "import os\n",
        "#numpydata = np.array(img)\n",
        "\n",
        "# Dictionary to store files with labels\n",
        "train_images = []\n",
        "path = \"/content/animal-data/animal_data/Bear\"\n",
        "\n",
        "# Iterate over files in the directory\n",
        "for file_name in os.listdir(path):\n",
        "    # Check if current item is a file\n",
        "    if os.path.isfile(os.path.join(path, file_name)):\n",
        "        # Add filename and label to the dictionary\n",
        "        #train_images[file_name] = '0'\n",
        "        train_images = np.array(file_name)\n",
        "\n",
        "\n",
        "print(train_images)\n"
      ],
      "metadata": {
        "colab": {
          "base_uri": "https://localhost:8080/"
        },
        "id": "OiNlNYx1BMIv",
        "outputId": "f6605f4b-74bf-4c1f-c192-4eaef292af39"
      },
      "execution_count": 23,
      "outputs": [
        {
          "output_type": "stream",
          "name": "stdout",
          "text": [
            "Bear_19_1.jpg\n"
          ]
        }
      ]
    },
    {
      "cell_type": "code",
      "source": [
        "train_images"
      ],
      "metadata": {
        "colab": {
          "base_uri": "https://localhost:8080/"
        },
        "id": "aOq71KM6DS-a",
        "outputId": "907347ec-8fd7-436c-b7c6-9970700cf4a7"
      },
      "execution_count": 24,
      "outputs": [
        {
          "output_type": "execute_result",
          "data": {
            "text/plain": [
              "array('Bear_19_1.jpg', dtype='<U13')"
            ]
          },
          "metadata": {},
          "execution_count": 24
        }
      ]
    },
    {
      "cell_type": "code",
      "source": [
        "import os\n",
        "import cv2\n",
        "import numpy as np\n",
        "#my_tuple = np.array((1, 2, 3, 4, 5))\n",
        "train_labels = []\n",
        "train_images = []\n",
        "path = \"/content/animal-data/animal_data/Bear\"\n",
        "\n",
        "# Iterate over files in the directory\n",
        "for file_name in os.listdir(path):\n",
        "    # Check if current item is a file\n",
        "    if os.path.isfile(os.path.join(path, file_name)):\n",
        "        # Read the image\n",
        "        image = cv2.imread(os.path.join(path, file_name))\n",
        "        # Convert the image to a numpy array\n",
        "        if image is not None:\n",
        "            image = image / 255.0 # Normalize pixel values to be between 0 and 1\n",
        "            train_images.append(np.array(image))\n",
        "            train_labels.append(np.array(\"0\"))\n",
        "        else:\n",
        "            print(f\"Unable to read image: {file_name}\")\n",
        "\n",
        "# Convert the list of images to a numpy array\n",
        "train_images_array = np.array(train_images)\n",
        "train_labels = np.array(train_labels)\n",
        "\n",
        "print(train_images_array,train_labels)\n",
        "#print(train_labels)\n",
        "\n"
      ],
      "metadata": {
        "colab": {
          "base_uri": "https://localhost:8080/"
        },
        "id": "Ll3DNDtkDEBs",
        "outputId": "13cd60ce-157b-44ae-d513-bde74615e50a"
      },
      "execution_count": 47,
      "outputs": [
        {
          "output_type": "stream",
          "name": "stdout",
          "text": [
            "[[[[0.96470588 0.7254902  0.46666667]\n",
            "   [0.96078431 0.72156863 0.4627451 ]\n",
            "   [0.95686275 0.71764706 0.45882353]\n",
            "   ...\n",
            "   [0.99607843 0.83529412 0.64313725]\n",
            "   [0.99607843 0.83137255 0.64705882]\n",
            "   [0.99607843 0.83137255 0.64705882]]\n",
            "\n",
            "  [[0.96470588 0.7254902  0.46666667]\n",
            "   [0.96078431 0.72156863 0.4627451 ]\n",
            "   [0.96078431 0.72156863 0.4627451 ]\n",
            "   ...\n",
            "   [0.99607843 0.83529412 0.64313725]\n",
            "   [0.99607843 0.83137255 0.64705882]\n",
            "   [0.99607843 0.83137255 0.64705882]]\n",
            "\n",
            "  [[0.96862745 0.72941176 0.47058824]\n",
            "   [0.96470588 0.7254902  0.46666667]\n",
            "   [0.96470588 0.7254902  0.46666667]\n",
            "   ...\n",
            "   [0.99607843 0.83137255 0.64705882]\n",
            "   [0.99607843 0.83137255 0.64705882]\n",
            "   [0.99607843 0.83137255 0.64705882]]\n",
            "\n",
            "  ...\n",
            "\n",
            "  [[0.25490196 0.20392157 0.14117647]\n",
            "   [0.29803922 0.25098039 0.18039216]\n",
            "   [0.38039216 0.32156863 0.24705882]\n",
            "   ...\n",
            "   [0.20784314 0.11764706 0.03137255]\n",
            "   [0.13333333 0.0745098  0.01176471]\n",
            "   [0.24313725 0.20784314 0.15686275]]\n",
            "\n",
            "  [[0.56078431 0.52156863 0.45098039]\n",
            "   [0.49411765 0.46666667 0.39215686]\n",
            "   [0.61568627 0.60392157 0.52156863]\n",
            "   ...\n",
            "   [0.34117647 0.23529412 0.13333333]\n",
            "   [0.3372549  0.24705882 0.18431373]\n",
            "   [0.14901961 0.07058824 0.02745098]]\n",
            "\n",
            "  [[0.50196078 0.4745098  0.4       ]\n",
            "   [0.56862745 0.55294118 0.47843137]\n",
            "   [0.58431373 0.59607843 0.50980392]\n",
            "   ...\n",
            "   [0.34509804 0.23137255 0.1254902 ]\n",
            "   [0.28627451 0.18431373 0.12156863]\n",
            "   [0.34509804 0.24705882 0.20784314]]]\n",
            "\n",
            "\n",
            " [[[0.07058824 0.09019608 0.08235294]\n",
            "   [0.07058824 0.09019608 0.08235294]\n",
            "   [0.0745098  0.09411765 0.08627451]\n",
            "   ...\n",
            "   [0.07843137 0.09803922 0.09019608]\n",
            "   [0.07843137 0.09803922 0.09019608]\n",
            "   [0.07843137 0.09803922 0.09019608]]\n",
            "\n",
            "  [[0.07058824 0.09019608 0.08235294]\n",
            "   [0.07058824 0.09019608 0.08235294]\n",
            "   [0.0745098  0.09411765 0.08627451]\n",
            "   ...\n",
            "   [0.07843137 0.09803922 0.09019608]\n",
            "   [0.07843137 0.09803922 0.09019608]\n",
            "   [0.07843137 0.09803922 0.09019608]]\n",
            "\n",
            "  [[0.07058824 0.09019608 0.08235294]\n",
            "   [0.07058824 0.09019608 0.08235294]\n",
            "   [0.0745098  0.09411765 0.08627451]\n",
            "   ...\n",
            "   [0.0745098  0.09411765 0.08627451]\n",
            "   [0.07843137 0.09803922 0.09019608]\n",
            "   [0.08235294 0.10196078 0.09411765]]\n",
            "\n",
            "  ...\n",
            "\n",
            "  [[0.05882353 0.08235294 0.07843137]\n",
            "   [0.0627451  0.08627451 0.08235294]\n",
            "   [0.05882353 0.09019608 0.08627451]\n",
            "   ...\n",
            "   [0.07843137 0.10588235 0.09411765]\n",
            "   [0.07843137 0.10588235 0.09411765]\n",
            "   [0.07058824 0.10588235 0.09411765]]\n",
            "\n",
            "  [[0.05882353 0.08235294 0.07843137]\n",
            "   [0.0627451  0.08627451 0.08235294]\n",
            "   [0.07058824 0.09411765 0.09019608]\n",
            "   ...\n",
            "   [0.0745098  0.10196078 0.09019608]\n",
            "   [0.07058824 0.10588235 0.09411765]\n",
            "   [0.0627451  0.10588235 0.09411765]]\n",
            "\n",
            "  [[0.05882353 0.08235294 0.07843137]\n",
            "   [0.0627451  0.08627451 0.08235294]\n",
            "   [0.07058824 0.09411765 0.09019608]\n",
            "   ...\n",
            "   [0.0627451  0.09803922 0.08627451]\n",
            "   [0.06666667 0.10196078 0.09019608]\n",
            "   [0.05882353 0.10196078 0.09019608]]]\n",
            "\n",
            "\n",
            " [[[0.3254902  0.34117647 0.41176471]\n",
            "   [0.28235294 0.29803922 0.36862745]\n",
            "   [0.3254902  0.35294118 0.41176471]\n",
            "   ...\n",
            "   [0.22745098 0.28627451 0.25490196]\n",
            "   [0.33333333 0.39215686 0.36078431]\n",
            "   [0.38431373 0.44705882 0.40392157]]\n",
            "\n",
            "  [[0.3254902  0.34117647 0.41176471]\n",
            "   [0.29803922 0.31764706 0.37647059]\n",
            "   [0.32941176 0.35686275 0.41568627]\n",
            "   ...\n",
            "   [0.2745098  0.32941176 0.30588235]\n",
            "   [0.3254902  0.38431373 0.35294118]\n",
            "   [0.38039216 0.44313725 0.4       ]]\n",
            "\n",
            "  [[0.30980392 0.32941176 0.38823529]\n",
            "   [0.31764706 0.3372549  0.39607843]\n",
            "   [0.34901961 0.37647059 0.43529412]\n",
            "   ...\n",
            "   [0.34117647 0.39607843 0.37254902]\n",
            "   [0.34117647 0.4        0.36862745]\n",
            "   [0.38823529 0.44705882 0.41568627]]\n",
            "\n",
            "  ...\n",
            "\n",
            "  [[0.15686275 0.18823529 0.14509804]\n",
            "   [0.14117647 0.17254902 0.12941176]\n",
            "   [0.13333333 0.16470588 0.12156863]\n",
            "   ...\n",
            "   [0.76078431 0.80392157 0.76470588]\n",
            "   [0.73333333 0.78431373 0.75294118]\n",
            "   [0.44313725 0.49411765 0.4627451 ]]\n",
            "\n",
            "  [[0.16862745 0.20392157 0.15294118]\n",
            "   [0.14901961 0.18431373 0.13333333]\n",
            "   [0.1372549  0.17254902 0.12156863]\n",
            "   ...\n",
            "   [0.81960784 0.8627451  0.82352941]\n",
            "   [0.67058824 0.72156863 0.69019608]\n",
            "   [0.43137255 0.49019608 0.45882353]]\n",
            "\n",
            "  [[0.17254902 0.20784314 0.15686275]\n",
            "   [0.15686275 0.19215686 0.14117647]\n",
            "   [0.14117647 0.17647059 0.1254902 ]\n",
            "   ...\n",
            "   [0.82352941 0.86666667 0.82745098]\n",
            "   [0.58039216 0.63137255 0.6       ]\n",
            "   [0.55294118 0.61176471 0.58039216]]]\n",
            "\n",
            "\n",
            " ...\n",
            "\n",
            "\n",
            " [[[0.77647059 0.74509804 0.74509804]\n",
            "   [0.77254902 0.74117647 0.74117647]\n",
            "   [0.77647059 0.74509804 0.74509804]\n",
            "   ...\n",
            "   [0.89411765 0.8627451  0.83529412]\n",
            "   [0.89411765 0.8627451  0.83529412]\n",
            "   [0.89411765 0.8627451  0.83529412]]\n",
            "\n",
            "  [[0.77254902 0.74117647 0.74117647]\n",
            "   [0.77647059 0.74509804 0.74509804]\n",
            "   [0.78431373 0.75294118 0.75294118]\n",
            "   ...\n",
            "   [0.91764706 0.88627451 0.85882353]\n",
            "   [0.91764706 0.88627451 0.85882353]\n",
            "   [0.91764706 0.88627451 0.85882353]]\n",
            "\n",
            "  [[0.76078431 0.72941176 0.72941176]\n",
            "   [0.77647059 0.74509804 0.74509804]\n",
            "   [0.78823529 0.75686275 0.75686275]\n",
            "   ...\n",
            "   [0.94117647 0.90980392 0.88235294]\n",
            "   [0.94117647 0.90980392 0.88235294]\n",
            "   [0.94117647 0.90980392 0.88235294]]\n",
            "\n",
            "  ...\n",
            "\n",
            "  [[0.98039216 0.94509804 0.92941176]\n",
            "   [0.98039216 0.94509804 0.92941176]\n",
            "   [0.98039216 0.94509804 0.93333333]\n",
            "   ...\n",
            "   [0.94509804 0.92941176 0.90980392]\n",
            "   [0.94509804 0.92941176 0.90980392]\n",
            "   [0.94117647 0.9254902  0.90588235]]\n",
            "\n",
            "  [[0.97647059 0.94117647 0.92941176]\n",
            "   [0.97647059 0.94117647 0.92941176]\n",
            "   [0.97254902 0.9372549  0.9254902 ]\n",
            "   ...\n",
            "   [0.95294118 0.9372549  0.91764706]\n",
            "   [0.95294118 0.9372549  0.91764706]\n",
            "   [0.94509804 0.92941176 0.90980392]]\n",
            "\n",
            "  [[0.96078431 0.9254902  0.91372549]\n",
            "   [0.96078431 0.9254902  0.91372549]\n",
            "   [0.96078431 0.9254902  0.91372549]\n",
            "   ...\n",
            "   [0.96078431 0.94509804 0.9254902 ]\n",
            "   [0.96470588 0.94901961 0.92941176]\n",
            "   [0.96078431 0.94509804 0.9254902 ]]]\n",
            "\n",
            "\n",
            " [[[0.5372549  0.77647059 0.85490196]\n",
            "   [0.54117647 0.78039216 0.85882353]\n",
            "   [0.59607843 0.81960784 0.90196078]\n",
            "   ...\n",
            "   [0.35294118 0.2745098  0.23137255]\n",
            "   [0.34901961 0.27058824 0.22745098]\n",
            "   [0.34901961 0.27058824 0.22745098]]\n",
            "\n",
            "  [[0.65882353 0.88235294 0.96470588]\n",
            "   [0.59607843 0.81960784 0.90196078]\n",
            "   [0.56078431 0.77647059 0.85882353]\n",
            "   ...\n",
            "   [0.34509804 0.26666667 0.22352941]\n",
            "   [0.34117647 0.2627451  0.21960784]\n",
            "   [0.34117647 0.2627451  0.21960784]]\n",
            "\n",
            "  [[0.55686275 0.75294118 0.83921569]\n",
            "   [0.48235294 0.67843137 0.76470588]\n",
            "   [0.41960784 0.61176471 0.69803922]\n",
            "   ...\n",
            "   [0.33333333 0.25490196 0.21176471]\n",
            "   [0.32941176 0.25098039 0.20784314]\n",
            "   [0.32941176 0.25098039 0.20784314]]\n",
            "\n",
            "  ...\n",
            "\n",
            "  [[0.43529412 0.47058824 0.50588235]\n",
            "   [0.41960784 0.45490196 0.49019608]\n",
            "   [0.41960784 0.45490196 0.49019608]\n",
            "   ...\n",
            "   [0.51764706 0.5372549  0.57254902]\n",
            "   [0.51764706 0.5372549  0.57254902]\n",
            "   [0.49803922 0.51764706 0.55294118]]\n",
            "\n",
            "  [[0.4745098  0.50196078 0.5372549 ]\n",
            "   [0.45098039 0.47843137 0.51372549]\n",
            "   [0.43529412 0.47058824 0.50588235]\n",
            "   ...\n",
            "   [0.53333333 0.55294118 0.58823529]\n",
            "   [0.54509804 0.56470588 0.6       ]\n",
            "   [0.52156863 0.54117647 0.57647059]]\n",
            "\n",
            "  [[0.49411765 0.52156863 0.55686275]\n",
            "   [0.47843137 0.50588235 0.54117647]\n",
            "   [0.4627451  0.49803922 0.53333333]\n",
            "   ...\n",
            "   [0.5372549  0.55686275 0.59215686]\n",
            "   [0.54901961 0.56862745 0.60392157]\n",
            "   [0.51764706 0.5372549  0.57254902]]]\n",
            "\n",
            "\n",
            " [[[0.31372549 0.61176471 0.49019608]\n",
            "   [0.17254902 0.47058824 0.3372549 ]\n",
            "   [0.23137255 0.52941176 0.36470588]\n",
            "   ...\n",
            "   [0.36862745 0.60784314 0.50588235]\n",
            "   [0.64313725 0.85490196 0.76470588]\n",
            "   [0.5372549  0.72941176 0.65098039]]\n",
            "\n",
            "  [[0.28235294 0.55294118 0.44705882]\n",
            "   [0.23529412 0.50980392 0.38823529]\n",
            "   [0.35686275 0.63529412 0.47843137]\n",
            "   ...\n",
            "   [0.31764706 0.55686275 0.45490196]\n",
            "   [0.56862745 0.76862745 0.69019608]\n",
            "   [0.24705882 0.43921569 0.36078431]]\n",
            "\n",
            "  [[0.20784314 0.43137255 0.34901961]\n",
            "   [0.22745098 0.46666667 0.36470588]\n",
            "   [0.4        0.6627451  0.51764706]\n",
            "   ...\n",
            "   [0.25882353 0.47843137 0.38823529]\n",
            "   [0.38039216 0.57254902 0.49411765]\n",
            "   [0.16862745 0.34509804 0.27843137]]\n",
            "\n",
            "  ...\n",
            "\n",
            "  [[0.45490196 0.83921569 0.72156863]\n",
            "   [0.45490196 0.83137255 0.71372549]\n",
            "   [0.49019608 0.84313725 0.72941176]\n",
            "   ...\n",
            "   [0.47058824 0.76862745 0.75294118]\n",
            "   [0.4745098  0.77254902 0.75686275]\n",
            "   [0.53333333 0.83529412 0.81960784]]\n",
            "\n",
            "  [[0.47058824 0.85098039 0.7254902 ]\n",
            "   [0.47058824 0.83921569 0.71764706]\n",
            "   [0.49803922 0.85098039 0.73333333]\n",
            "   ...\n",
            "   [0.49411765 0.78431373 0.76862745]\n",
            "   [0.4745098  0.77254902 0.75686275]\n",
            "   [0.49019608 0.78823529 0.77254902]]\n",
            "\n",
            "  [[0.48627451 0.86666667 0.74117647]\n",
            "   [0.48235294 0.85098039 0.72941176]\n",
            "   [0.50588235 0.85882353 0.74117647]\n",
            "   ...\n",
            "   [0.49803922 0.78823529 0.77254902]\n",
            "   [0.4627451  0.75294118 0.7372549 ]\n",
            "   [0.44313725 0.74117647 0.7254902 ]]]] ['0' '0' '0' '0' '0' '0' '0' '0' '0' '0' '0' '0' '0' '0' '0' '0' '0' '0'\n",
            " '0' '0' '0' '0' '0' '0' '0' '0' '0' '0' '0' '0' '0' '0' '0' '0' '0' '0'\n",
            " '0' '0' '0' '0' '0' '0' '0' '0' '0' '0' '0' '0' '0' '0' '0' '0' '0' '0'\n",
            " '0' '0' '0' '0' '0' '0' '0' '0' '0' '0' '0' '0' '0' '0' '0' '0' '0' '0'\n",
            " '0' '0' '0' '0' '0' '0' '0' '0' '0' '0' '0' '0' '0' '0' '0' '0' '0' '0'\n",
            " '0' '0' '0' '0' '0' '0' '0' '0' '0' '0' '0' '0' '0' '0' '0' '0' '0' '0'\n",
            " '0' '0' '0' '0' '0' '0' '0' '0' '0' '0' '0' '0' '0' '0' '0' '0' '0']\n"
          ]
        }
      ]
    },
    {
      "cell_type": "code",
      "source": [
        "type(train_images_array)\n"
      ],
      "metadata": {
        "colab": {
          "base_uri": "https://localhost:8080/"
        },
        "id": "HVd1C8TnD6dR",
        "outputId": "bd4b5dc3-3294-40d9-f9d3-8b391c6aa8cf"
      },
      "execution_count": 44,
      "outputs": [
        {
          "output_type": "execute_result",
          "data": {
            "text/plain": [
              "numpy.ndarray"
            ]
          },
          "metadata": {},
          "execution_count": 44
        }
      ]
    },
    {
      "cell_type": "code",
      "source": [
        "type(train_labels)"
      ],
      "metadata": {
        "colab": {
          "base_uri": "https://localhost:8080/"
        },
        "id": "kFl1_UuYDlZL",
        "outputId": "37ed46d0-a0ec-46b9-f288-b9c0254c665c"
      },
      "execution_count": 43,
      "outputs": [
        {
          "output_type": "execute_result",
          "data": {
            "text/plain": [
              "numpy.ndarray"
            ]
          },
          "metadata": {},
          "execution_count": 43
        }
      ]
    }
  ]
}